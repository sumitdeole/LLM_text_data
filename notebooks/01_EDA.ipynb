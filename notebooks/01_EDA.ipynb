{
 "cells": [
  {
   "cell_type": "markdown",
   "id": "af414ffd",
   "metadata": {},
   "source": [
    "#### SMS Spam Collection - Exploratory Data Analysis\n",
    "This notebook performs exploratory data analysis (EDA) on the SMS Spam Collection dataset."
   ]
  },
  {
   "cell_type": "code",
   "execution_count": 13,
   "id": "da118fc2",
   "metadata": {},
   "outputs": [],
   "source": [
    "import pandas as pd\n",
    "import matplotlib.pyplot as plt\n",
    "import seaborn as sns\n",
    "from wordcloud import WordCloud\n",
    "from sklearn.feature_extraction.text import CountVectorizer\n",
    "import os"
   ]
  },
  {
   "cell_type": "code",
   "execution_count": 14,
   "id": "820a1a23",
   "metadata": {},
   "outputs": [],
   "source": [
    "# Setup\n",
    "sns.set_theme()\n",
    "sns.set_palette(\"viridis\")\n",
    "os.makedirs(\"../plots\", exist_ok=True)"
   ]
  },
  {
   "cell_type": "code",
   "execution_count": 15,
   "id": "0c0c6946",
   "metadata": {},
   "outputs": [],
   "source": [
    "# Load data\n",
    "df = pd.read_csv('../data/spam.csv', encoding='latin-1', usecols=[0, 1])\n",
    "df.columns = ['label', 'text']\n",
    "df['label'] = df['label'].map({'ham': 0, 'spam': 1})\n",
    "df['char_count'] = df['text'].str.len()\n",
    "df['word_count'] = df['text'].str.split().apply(len)"
   ]
  },
  {
   "cell_type": "code",
   "execution_count": 16,
   "id": "c344b1ff",
   "metadata": {},
   "outputs": [],
   "source": [
    "# Plot 1: Class Distribution\n",
    "plt.figure(figsize=(8, 5))\n",
    "ax = sns.countplot(x='label', data=df)\n",
    "plt.title('Message Type Distribution')\n",
    "plt.xlabel('Message Type')\n",
    "plt.ylabel('Count')\n",
    "plt.xticks([0, 1], ['Legitimate', 'Fraudulent'])\n",
    "for p in ax.patches:\n",
    "    height = p.get_height()\n",
    "    ax.annotate(f'{height}\\n({height/len(df):.1%})',\n",
    "                (p.get_x() + p.get_width() / 2., height),\n",
    "                ha='center', va='center', xytext=(0, 10), textcoords='offset points')\n",
    "plt.savefig('../plots/eda_class_dist.png', dpi=300)\n",
    "plt.close()"
   ]
  },
  {
   "cell_type": "code",
   "execution_count": 17,
   "id": "4036f1ac",
   "metadata": {},
   "outputs": [],
   "source": [
    "# Plot 2: Char Count by Label\n",
    "plt.figure(figsize=(8, 5))\n",
    "sns.boxplot(x='label', y='char_count', data=df)\n",
    "plt.title('Character Count Distribution by Message Type')\n",
    "plt.xticks([0, 1], ['Legitimate', 'Fraudulent'])\n",
    "plt.savefig('../plots/eda_text_length.png', dpi=300)\n",
    "plt.close()"
   ]
  },
  {
   "cell_type": "code",
   "execution_count": 18,
   "id": "473ae478",
   "metadata": {},
   "outputs": [],
   "source": [
    "# Word Clouds\n",
    "def make_wordcloud(series, title):\n",
    "    text = ' '.join(series)\n",
    "    wc = WordCloud(width=1200, height=600, background_color='white', colormap='viridis').generate(text)\n",
    "    plt.figure(figsize=(12, 6))\n",
    "    plt.imshow(wc, interpolation='bilinear')\n",
    "    plt.axis('off')\n",
    "    plt.title(title)\n",
    "    plt.savefig(f'../plots/eda_{title.lower().replace(\" \", \"_\")}.png', dpi=300)\n",
    "    plt.close()\n",
    "\n",
    "make_wordcloud(df[df['label'] == 1]['text'], 'Fraudulent Message Lexicon')\n",
    "make_wordcloud(df[df['label'] == 0]['text'], 'Legitimate Communication Patterns')"
   ]
  },
  {
   "cell_type": "code",
   "execution_count": 19,
   "id": "673cb963",
   "metadata": {},
   "outputs": [],
   "source": [
    "# Top 20 Unigrams in Spam\n",
    "vec = CountVectorizer(ngram_range=(1, 1), stop_words='english')\n",
    "spam_vec = vec.fit_transform(df[df['label'] == 1]['text'])\n",
    "sum_words = spam_vec.sum(axis=0)\n",
    "words_freq = [(word, sum_words[0, idx]) for word, idx in vec.vocabulary_.items()]\n",
    "words_freq = sorted(words_freq, key=lambda x: x[1], reverse=True)[:20]\n",
    "\n",
    "plt.figure(figsize=(10, 6))\n",
    "sns.barplot(x=[x[1] for x in words_freq], y=[x[0] for x in words_freq])\n",
    "plt.title('Top 20 Spam Unigrams')\n",
    "plt.xlabel('Frequency')\n",
    "plt.tight_layout()\n",
    "plt.savefig('../plots/top_spam_unigrams.png', dpi=300)\n",
    "plt.close()"
   ]
  }
 ],
 "metadata": {
  "kernelspec": {
   "display_name": "spam-detection",
   "language": "python",
   "name": "python3"
  },
  "language_info": {
   "codemirror_mode": {
    "name": "ipython",
    "version": 3
   },
   "file_extension": ".py",
   "mimetype": "text/x-python",
   "name": "python",
   "nbconvert_exporter": "python",
   "pygments_lexer": "ipython3",
   "version": "3.10.16"
  }
 },
 "nbformat": 4,
 "nbformat_minor": 5
}
