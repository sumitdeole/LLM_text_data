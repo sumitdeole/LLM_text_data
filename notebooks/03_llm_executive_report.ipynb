{
 "cells": [
  {
   "cell_type": "markdown",
   "id": "ac689ff8",
   "metadata": {},
   "source": [
    "#### Generate Automated Executive Report with Mistral\n",
    "This report summarizes the performance of our fine-tuned Mistral model for SMS spam detection."
   ]
  },
  {
   "cell_type": "code",
   "execution_count": 1,
   "id": "978627af",
   "metadata": {},
   "outputs": [],
   "source": [
    "import pandas as pd\n",
    "import numpy as np\n",
    "import matplotlib.pyplot as plt\n",
    "import ollama\n",
    "from jinja2 import Template\n",
    "from weasyprint import HTML\n",
    "import markdown2\n",
    "import os\n",
    "\n",
    "os.makedirs(\"../reports\", exist_ok=True)"
   ]
  },
  {
   "cell_type": "code",
   "execution_count": 2,
   "id": "8233626c",
   "metadata": {},
   "outputs": [],
   "source": [
    "# --- Load Metrics & Plot Data Summary ---\n",
    "metrics_df = pd.read_csv(\"../data/model_metrics.csv\").iloc[0]\n",
    "\n",
    "# Load label distribution\n",
    "df = pd.read_csv(\"../data/spam.csv\", encoding='latin-1', usecols=[0,1])\n",
    "df.columns = ['label', 'text']\n",
    "df['label'] = df['label'].map({'ham': 0, 'spam': 1})\n",
    "dist_summary = df['label'].value_counts(normalize=True).rename({0: 'ham', 1: 'spam'}).to_dict()"
   ]
  },
  {
   "cell_type": "code",
   "execution_count": 3,
   "id": "805fbf7f",
   "metadata": {},
   "outputs": [],
   "source": [
    "# Load top unigrams\n",
    "from sklearn.feature_extraction.text import CountVectorizer\n",
    "vec = CountVectorizer(ngram_range=(1, 1), stop_words='english')\n",
    "X = vec.fit_transform(df[df['label'] == 1]['text'])\n",
    "sum_words = X.sum(axis=0)\n",
    "top_unigrams = sorted([(w, sum_words[0, i]) for w, i in vec.vocabulary_.items()], key=lambda x: x[1], reverse=True)[:10]"
   ]
  },
  {
   "cell_type": "code",
   "execution_count": 4,
   "id": "5a163294",
   "metadata": {},
   "outputs": [],
   "source": [
    "# --- Prompt LLM for Plot + Metrics Interpretation ---\n",
    "summary_prompt = f\"\"\"\n",
    "Act as a senior financial fraud analyst.\n",
    "Interpret these findings **as if you can see the underlying visual plots**, but using only this data:\n",
    "\n",
    "### Class Distribution\n",
    "- Ham: {dist_summary.get('ham', 0):.1%}\n",
    "- Spam: {dist_summary.get('spam', 0):.1%}\n",
    "\n",
    "### Char Count Boxplot\n",
    "- Ham average chars: {df[df['label']==0]['text'].str.len().mean():.1f}\n",
    "- Spam average chars: {df[df['label']==1]['text'].str.len().mean():.1f}\n",
    "\n",
    "### Top Spam Unigrams:\n",
    "{', '.join([w for w, _ in top_unigrams])}\n",
    "\n",
    "### Model Metrics\n",
    "- Accuracy: {metrics_df['accuracy']:.1%}\n",
    "- Precision: {metrics_df['precision']:.1%}\n",
    "- Recall: {metrics_df['recall']:.1%}\n",
    "- F1 Score: {metrics_df['f1']:.1%}\n",
    "\n",
    "Generate a 2-page executive report in markdown format with the following sections:\n",
    "\n",
    "1. Executive Summary\n",
    "2. Model Evaluation\n",
    "3. Risk Indicators (lexical + structural)\n",
    "4. Trust & Interpretability (e.g., via LIME)\n",
    "5. Governance & Recommendations\n",
    "\n",
    "Keep the language formal and insight-driven. Do not reference the raw numbers directly. Infer insights.\n",
    "\"\"\"\n",
    "\n",
    "response = ollama.generate(model='mistral', prompt=summary_prompt)\n",
    "report_body = response['response']\n",
    "html_report_body = markdown2.markdown(report_body)"
   ]
  },
  {
   "cell_type": "code",
   "execution_count": null,
   "id": "c0a446ae",
   "metadata": {},
   "outputs": [
    {
     "name": "stdout",
     "output_type": "stream",
     "text": [
      "HTML report with model-driven interpretation and structured figures generated.\n"
     ]
    }
   ],
   "source": [
    "# --- HTML Template with Commentary ABOVE Figures ---\n",
    "html_template = Template(\"\"\"\n",
    "<!DOCTYPE html>\n",
    "<html>\n",
    "<head>\n",
    "    <meta charset=\"utf-8\">\n",
    "    <title>Fraud Detection Report</title>\n",
    "    <style>\n",
    "        body { font-family: Arial, sans-serif; margin: 2em; line-height: 1.6; }\n",
    "        h1, h2, h3 { color: #2c3e50; font-weight: 600; margin-top: 1.5em; }\n",
    "        ul { padding-left: 1.5em; }\n",
    "        li { margin-bottom: 0.4em; }\n",
    "        img { max-width: 100%; height: auto; margin: 20px 0; }\n",
    "        .metrics { background: #ecf0f1; padding: 10px; margin: 20px 0; border-left: 4px solid #2c3e50; }\n",
    "        footer { margin-top: 3em; font-size: 0.9em; color: #555; }\n",
    "    </style>\n",
    "</head>\n",
    "<body>\n",
    "    <h1>SMS Fraud Detection System - Executive Report</h1>\n",
    "\n",
    "    <div>{{ interpretation | safe }}</div>\n",
    "\n",
    "    <h2>Figures & Visuals</h2>\n",
    "    <h3>Class Distribution</h3>\n",
    "    <img src=\"../plots/eda_class_dist.png\" alt=\"Class Distribution\">\n",
    "\n",
    "    <h3>Text Length Distribution</h3>\n",
    "    <img src=\"../plots/eda_text_length.png\" alt=\"Character Count by Label\">\n",
    "\n",
    "    <h3>Top Fraudulent Unigrams</h3>\n",
    "    <img src=\"../plots/top_spam_unigrams.png\" alt=\"Top Unigrams\">\n",
    "\n",
    "    <h3>Confusion Matrix</h3>\n",
    "    <img src=\"../plots/confusion_matrix.png\" alt=\"Confusion Matrix\">\n",
    "\n",
    "    <h3>LIME Explanation</h3>\n",
    "    <img src=\"../plots/lime_visualization.png\" alt=\"LIME Explanation\">\n",
    "\n",
    "    <footer>\n",
    "        <p>Generated by AI Analyst · Date: {{ date }}</p>\n",
    "    </footer>\n",
    "</body>\n",
    "</html>\n",
    "\"\"\")\n",
    "\n",
    "html_filled = html_template.render(\n",
    "    interpretation=html_report_body,\n",
    "    date=pd.Timestamp.now().strftime('%Y-%m-%d')\n",
    ")\n",
    "\n",
    "html_path = \"../reports/fraud_detection_report.html\"\n",
    "with open(html_path, \"w\") as f:\n",
    "    f.write(html_filled)\n",
    "\n",
    "HTML(html_path).write_pdf(\"../reports/fraud_detection_report.pdf\")\n",
    "\n",
    "print(\"HTML report with model-driven interpretation and structured figures generated.\")"
   ]
  },
  {
   "cell_type": "code",
   "execution_count": 6,
   "id": "3c91178e",
   "metadata": {},
   "outputs": [],
   "source": [
    "HTML(html_path).write_pdf(\"../reports/fraud_detection_report.pdf\")"
   ]
  }
 ],
 "metadata": {
  "kernelspec": {
   "display_name": "myenv",
   "language": "python",
   "name": "python3"
  },
  "language_info": {
   "codemirror_mode": {
    "name": "ipython",
    "version": 3
   },
   "file_extension": ".py",
   "mimetype": "text/x-python",
   "name": "python",
   "nbconvert_exporter": "python",
   "pygments_lexer": "ipython3",
   "version": "3.9.15"
  }
 },
 "nbformat": 4,
 "nbformat_minor": 5
}
