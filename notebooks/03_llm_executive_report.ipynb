{
 "cells": [
  {
   "cell_type": "markdown",
   "id": "ac689ff8",
   "metadata": {},
   "source": [
    "#### Automated Report Generation with Mistral\n",
    "This report summarizes the performance of our fine-tuned Mistral model for SMS spam detection."
   ]
  },
  {
   "cell_type": "code",
   "execution_count": 7,
   "id": "978627af",
   "metadata": {},
   "outputs": [],
   "source": [
    "import pandas as pd\n",
    "import numpy as np\n",
    "import matplotlib.pyplot as plt\n",
    "import ollama\n",
    "from jinja2 import Template\n",
    "from weasyprint import HTML\n",
    "import os\n",
    "from sklearn.feature_extraction.text import CountVectorizer\n",
    "\n",
    "os.makedirs(\"..\", exist_ok=True)"
   ]
  },
  {
   "cell_type": "code",
   "execution_count": 8,
   "id": "8233626c",
   "metadata": {},
   "outputs": [],
   "source": [
    "# --- Load Metrics & Plot Data Summary ---\n",
    "metrics_df = pd.read_csv(\"../data/model_metrics.csv\").iloc[0]"
   ]
  },
  {
   "cell_type": "code",
   "execution_count": 9,
   "id": "805fbf7f",
   "metadata": {},
   "outputs": [],
   "source": [
    "# Load label distribution\n",
    "df = pd.read_csv(\"../data/spam.csv\", encoding='latin-1', usecols=[0,1])\n",
    "df.columns = ['label', 'text']\n",
    "df['label'] = df['label'].map({'ham': 0, 'spam': 1})\n",
    "dist_summary = df['label'].value_counts(normalize=True).rename({0: 'ham', 1: 'spam'}).to_dict()"
   ]
  },
  {
   "cell_type": "code",
   "execution_count": 10,
   "id": "5a163294",
   "metadata": {},
   "outputs": [],
   "source": [
    "# Load top unigrams\n",
    "vec = CountVectorizer(ngram_range=(1, 1), stop_words='english')\n",
    "X = vec.fit_transform(df[df['label'] == 1]['text'])\n",
    "sum_words = X.sum(axis=0)\n",
    "top_unigrams = sorted([(w, sum_words[0, i]) for w, i in vec.vocabulary_.items()], key=lambda x: x[1], reverse=True)[:10]"
   ]
  },
  {
   "cell_type": "code",
   "execution_count": 11,
   "id": "c0a446ae",
   "metadata": {},
   "outputs": [],
   "source": [
    "# --- Prompt LLM for Analysis ---\n",
    "summary_prompt = f\"\"\"\n",
    "Act as a senior financial fraud analyst.\n",
    "Write a professional 2-page executive report covering the following:\n",
    "\n",
    "## System Summary:\n",
    "- Class balance: {dist_summary.get('ham', 0):.1%} ham, {dist_summary.get('spam', 0):.1%} spam\n",
    "- Avg char count: Ham: {df[df['label']==0]['text'].str.len().mean():.1f}, Spam: {df[df['label']==1]['text'].str.len().mean():.1f}\n",
    "- Top spam unigrams: {', '.join([w for w, _ in top_unigrams])}\n",
    "- Metrics: Accuracy: {metrics_df['accuracy']:.1%}, Precision: {metrics_df['precision']:.1%}, Recall: {metrics_df['recall']:.1%}, F1: {metrics_df['f1']:.1%}\n",
    "\n",
    "## Report Sections:\n",
    "1. Executive Summary (brief intro + outcome)\n",
    "2. Model Evaluation (metrics analysis)\n",
    "3. Risk Signal Insights (based on unigrams, spam length). Interpret the plots.\n",
    "4. Interpretability & Trust (based on LIME)\n",
    "5. Compliance & Recommendations (Basel III, governance)\n",
    "\n",
    "Use clear section headings, bullet points for insights, and professional tone.\n",
    "\"\"\"\n",
    "\n",
    "response = ollama.generate(model='mistral', prompt=summary_prompt)\n",
    "report_body = response['response']\n",
    "\n",
    "# --- HTML Report Template ---\n",
    "html_template = Template(\"\"\"\n",
    "<!DOCTYPE html>\n",
    "<html>\n",
    "<head>\n",
    "    <meta charset=\"utf-8\">\n",
    "    <title>Fraud Detection Report</title>\n",
    "    <style>\n",
    "        body { font-family: Arial, sans-serif; margin: 2em; line-height: 1.6; }\n",
    "        h1, h2, h3 { color: #2c3e50; margin-top: 1.5em; }\n",
    "        img { max-width: 100%; height: auto; margin: 20px 0; }\n",
    "        .metrics { background: #ecf0f1; padding: 10px; margin: 20px 0; border-left: 4px solid #2c3e50; }\n",
    "        footer { margin-top: 3em; font-size: 0.9em; color: #555; }\n",
    "    </style>\n",
    "</head>\n",
    "<body>\n",
    "    <h1>SMS Fraud Detection System - Executive Analysis</h1>\n",
    "\n",
    "    <h2>Model Performance Summary</h2>\n",
    "    <div class=\"metrics\">\n",
    "        <p><strong>Accuracy:</strong> {{ accuracy }}</p>\n",
    "        <p><strong>Fraud Precision:</strong> {{ precision }}</p>\n",
    "        <p><strong>Fraud Recall:</strong> {{ recall }}</p>\n",
    "        <p><strong>F1 Score:</strong> {{ f1 }}</p>\n",
    "    </div>\n",
    "\n",
    "    <h2>Exploratory Data Analysis</h2>\n",
    "    <img src=\"../plots/eda_class_dist.png\" alt=\"Class Distribution\">\n",
    "    <img src=\"../plots/eda_text_length.png\" alt=\"Character Count by Label\">\n",
    "    <img src=\"../plots/top_spam_unigrams.png\" alt=\"Top Unigrams\">\n",
    "\n",
    "    <h2>Model Evaluation</h2>\n",
    "    <img src=\"../plots/confusion_matrix.png\" alt=\"Confusion Matrix\">\n",
    "    <h2>Model Interpretability</h2>\n",
    "    <img src=\"../plots/lime_visualization.png\" alt=\"LIME Explanation\">\n",
    "\n",
    "    <h2>Executive Commentary</h2>\n",
    "    <div>{{ interpretation | safe }}</div>\n",
    "\n",
    "    <footer>\n",
    "        <p>Generated by AI Analyst · Date: {{ date }}</p>\n",
    "    </footer>\n",
    "</body>\n",
    "</html>\n",
    "\"\"\")"
   ]
  },
  {
   "cell_type": "code",
   "execution_count": 12,
   "id": "8543c064",
   "metadata": {},
   "outputs": [
    {
     "name": "stdout",
     "output_type": "stream",
     "text": [
      "HTML and PDF reports generated. Open in browser for print to PDF.\n"
     ]
    }
   ],
   "source": [
    "html_filled = html_template.render(\n",
    "    accuracy=f\"{metrics_df['accuracy']:.1%}\",\n",
    "    precision=f\"{metrics_df['precision']:.1%}\",\n",
    "    recall=f\"{metrics_df['recall']:.1%}\",\n",
    "    f1=f\"{metrics_df['f1']:.1%}\",\n",
    "    interpretation=report_body.replace(\"\\n\", \"<br>\"),\n",
    "    date=pd.Timestamp.now().strftime('%Y-%m-%d')\n",
    ")\n",
    "\n",
    "html_path = \"..LLM_executive_report.html\"\n",
    "with open(html_path, \"w\") as f:\n",
    "    f.write(html_filled)\n",
    "\n",
    "HTML(html_path).write_pdf(\"..LLM_executive_report.pdf\")\n",
    "print(\"HTML and PDF reports generated. Open in browser for print to PDF.\")"
   ]
  }
 ],
 "metadata": {
  "kernelspec": {
   "display_name": "spam-detection",
   "language": "python",
   "name": "python3"
  },
  "language_info": {
   "codemirror_mode": {
    "name": "ipython",
    "version": 3
   },
   "file_extension": ".py",
   "mimetype": "text/x-python",
   "name": "python",
   "nbconvert_exporter": "python",
   "pygments_lexer": "ipython3",
   "version": "3.10.16"
  }
 },
 "nbformat": 4,
 "nbformat_minor": 5
}
